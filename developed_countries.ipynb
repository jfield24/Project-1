{
 "cells": [
  {
   "cell_type": "code",
   "execution_count": 1,
   "metadata": {},
   "outputs": [],
   "source": [
    "# Dependencies and Setup\n",
    "import matplotlib.pyplot as plt\n",
    "import pandas as pd\n",
    "import numpy as np\n",
    "import requests\n",
    "import os\n",
    "import json\n",
    "import time\n",
    "import gmaps\n",
    "\n",
    "# Import API key\n",
    "from api_key import g_key"
   ]
  },
  {
   "cell_type": "code",
   "execution_count": 19,
   "metadata": {},
   "outputs": [],
   "source": [
    "developed_countries = pd.read_csv(\"./output_data/developed_countries.csv\")\n",
    "country_coordinates = pd.read_csv(\"./country_co-ordinates.csv\")\n",
    "\n",
    "mean_df = developed_countries[['Country', \"health expenditure (per capita)\", \"number of suicides (per 100,000 people)\"]]\\\n",
    "                .groupby(\"Country\").mean()\n",
    "combined_df = mean_df.merge(country_coordinates, on=\"Country\", how=\"left\")"
   ]
  },
  {
   "cell_type": "code",
   "execution_count": 20,
   "metadata": {},
   "outputs": [],
   "source": [
    "#Configuring gmaps\n",
    "gmaps.configure(api_key=g_key)\n",
    "\n",
    "#Store latitude and longitude in locations\n",
    "locations = combined_df[[\"latitude\", \"longitude\"]]\n",
    "\n",
    "#Store humidity in humidity\n",
    "expenditure = combined_df[\"health expenditure (per capita)\"]\n"
   ]
  },
  {
   "cell_type": "code",
   "execution_count": 21,
   "metadata": {},
   "outputs": [
    {
     "data": {
      "application/vnd.jupyter.widget-view+json": {
       "model_id": "7e8579456be0488b9a435a8f83088c1d",
       "version_major": 2,
       "version_minor": 0
      },
      "text/plain": [
       "Figure(layout=FigureLayout(height='420px'))"
      ]
     },
     "metadata": {},
     "output_type": "display_data"
    }
   ],
   "source": [
    "# Plotting Heatmap\n",
    "fig = gmaps.figure(center=(46.0, -5.0), zoom_level=2)\n",
    "max_intensity = np.max(expenditure)\n",
    "\n",
    "#Creating heat layer\n",
    "heat_layer = gmaps.heatmap_layer(locations, weights=expenditure, dissipating=False,\n",
    "                                     max_intensity=max_intensity, opacity=0.5, point_radius=10)\n",
    "\n",
    "#Adding layer\n",
    "fig.add_layer(heat_layer)\n",
    "\n",
    "#Displaying figure\n",
    "fig"
   ]
  },
  {
   "cell_type": "code",
   "execution_count": 24,
   "metadata": {},
   "outputs": [
    {
     "data": {
      "application/vnd.jupyter.widget-view+json": {
       "model_id": "2c1ebe0e282748adb0abe09c3a30c516",
       "version_major": 2,
       "version_minor": 0
      },
      "text/plain": [
       "Figure(layout=FigureLayout(height='420px'))"
      ]
     },
     "metadata": {},
     "output_type": "display_data"
    }
   ],
   "source": [
    "#Number of Suicide \n",
    "suicide_rate = combined_df[\"number of suicides (per 100,000 people)\"]\n",
    "\n",
    "# Plotting Heatmap\n",
    "fig = gmaps.figure(center=(46.0, -5.0), zoom_level=2)\n",
    "max_intensity = np.max(suicide_rate)\n",
    "\n",
    "#Creating heat layer\n",
    "heat_layer = gmaps.heatmap_layer(locations, weights=suicide_rate, dissipating=False,\n",
    "                                     max_intensity=max_intensity, opacity=0.5, point_radius=10)\n",
    "\n",
    "#Adding layer\n",
    "fig.add_layer(heat_layer)\n",
    "\n",
    "#Displaying figure\n",
    "fig"
   ]
  },
  {
   "cell_type": "code",
   "execution_count": null,
   "metadata": {},
   "outputs": [],
   "source": []
  }
 ],
 "metadata": {
  "kernelspec": {
   "display_name": "Python 3",
   "language": "python",
   "name": "python3"
  },
  "language_info": {
   "codemirror_mode": {
    "name": "ipython",
    "version": 3
   },
   "file_extension": ".py",
   "mimetype": "text/x-python",
   "name": "python",
   "nbconvert_exporter": "python",
   "pygments_lexer": "ipython3",
   "version": "3.8.3"
  }
 },
 "nbformat": 4,
 "nbformat_minor": 4
}
