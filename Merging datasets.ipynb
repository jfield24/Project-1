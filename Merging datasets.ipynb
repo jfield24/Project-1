{
 "cells": [
  {
   "cell_type": "code",
   "execution_count": 1,
   "metadata": {},
   "outputs": [],
   "source": [
    "import pandas as pd\n",
    "import numpy as np"
   ]
  },
  {
   "cell_type": "code",
   "execution_count": 2,
   "metadata": {},
   "outputs": [],
   "source": [
    "suicide_statistic_df = pd.read_csv(\"./data_sources/suicide_statistics_cleaned.csv\")\n",
    "health_expenditure_df = pd.read_csv(\"./data_sources/current_health_expenditure_per_capita.csv\")\n"
   ]
  },
  {
   "cell_type": "code",
   "execution_count": 3,
   "metadata": {},
   "outputs": [],
   "source": [
    "def aggregate_csv(series):\n",
    "    country = series['country']\n",
    "    year = series['year']\n",
    "    for _, data in health_expenditure_df[['Country', str(year)]].iterrows():\n",
    "        if country == data[0]:\n",
    "            return data[1]\n",
    "    return pd.NA"
   ]
  },
  {
   "cell_type": "code",
   "execution_count": 5,
   "metadata": {},
   "outputs": [],
   "source": [
    "merged_suicide_statistics_df = suicide_statistic_df.assign(health_expenditure=suicide_statistic_df.agg(aggregate_csv, axis=1))\n",
    "merged_suicide_statistics_df.to_csv(\"./data_sources/merged_data.csv\", index=False)"
   ]
  },
  {
   "cell_type": "code",
   "execution_count": null,
   "metadata": {},
   "outputs": [],
   "source": []
  },
  {
   "cell_type": "code",
   "execution_count": null,
   "metadata": {},
   "outputs": [],
   "source": []
  }
 ],
 "metadata": {
  "kernelspec": {
   "display_name": "Python 3",
   "language": "python",
   "name": "python3"
  },
  "language_info": {
   "codemirror_mode": {
    "name": "ipython",
    "version": 3
   },
   "file_extension": ".py",
   "mimetype": "text/x-python",
   "name": "python",
   "nbconvert_exporter": "python",
   "pygments_lexer": "ipython3",
   "version": "3.6.10"
  }
 },
 "nbformat": 4,
 "nbformat_minor": 4
}
