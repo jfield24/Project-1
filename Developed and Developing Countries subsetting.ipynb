{
 "cells": [
  {
   "cell_type": "code",
   "execution_count": 1,
   "metadata": {},
   "outputs": [],
   "source": [
    "# Import dependencies\n",
    "import pandas as pd"
   ]
  },
  {
   "cell_type": "code",
   "execution_count": 2,
   "metadata": {},
   "outputs": [],
   "source": [
    "# Read in the CSV files needed\n",
    "\n",
    "classification_df = pd.read_csv(\"data_sources/IMF_data.csv\", encoding='utf-8')\n",
    "\n",
    "dataset_df = pd.read_csv(\"output_data/data_06_to_2015.csv\", encoding='utf-8')"
   ]
  },
  {
   "cell_type": "code",
   "execution_count": 3,
   "metadata": {},
   "outputs": [
    {
     "data": {
      "text/plain": [
       "country                   object\n",
       "country classification    object\n",
       "dtype: object"
      ]
     },
     "execution_count": 3,
     "metadata": {},
     "output_type": "execute_result"
    }
   ],
   "source": [
    "# Check the dtypes of each dataframe before merge\n",
    "classification_df.dtypes"
   ]
  },
  {
   "cell_type": "code",
   "execution_count": 4,
   "metadata": {},
   "outputs": [
    {
     "data": {
      "text/plain": [
       "country                                     object\n",
       "year                                         int64\n",
       "number of suicides (per 100,000 people)    float64\n",
       "health expenditure (per capita)            float64\n",
       "dtype: object"
      ]
     },
     "execution_count": 4,
     "metadata": {},
     "output_type": "execute_result"
    }
   ],
   "source": [
    "dataset_df.dtypes"
   ]
  },
  {
   "cell_type": "code",
   "execution_count": 5,
   "metadata": {},
   "outputs": [
    {
     "data": {
      "text/plain": [
       "0      Australia\n",
       "1        Austria\n",
       "2        Belgium\n",
       "3         Canada\n",
       "4         Cyprus\n",
       "         ...    \n",
       "189    Venezuela\n",
       "190      Vietnam\n",
       "191        Yemen\n",
       "192       Zambia\n",
       "193     Zimbabwe\n",
       "Name: country, Length: 194, dtype: string"
      ]
     },
     "execution_count": 5,
     "metadata": {},
     "output_type": "execute_result"
    }
   ],
   "source": [
    "# Change the dtypes that we need\n",
    "classification_df['country'].astype('string')\n"
   ]
  },
  {
   "cell_type": "code",
   "execution_count": 6,
   "metadata": {},
   "outputs": [
    {
     "data": {
      "text/plain": [
       "0       Developed Countries\n",
       "1       Developed Countries\n",
       "2       Developed Countries\n",
       "3       Developed Countries\n",
       "4       Developed Countries\n",
       "               ...         \n",
       "189    Developing Countries\n",
       "190    Developing Countries\n",
       "191    Developing Countries\n",
       "192    Developing Countries\n",
       "193    Developing Countries\n",
       "Name: country classification, Length: 194, dtype: string"
      ]
     },
     "execution_count": 6,
     "metadata": {},
     "output_type": "execute_result"
    }
   ],
   "source": [
    "classification_df['country classification'].astype('string')"
   ]
  },
  {
   "cell_type": "code",
   "execution_count": 7,
   "metadata": {},
   "outputs": [
    {
     "data": {
      "text/plain": [
       "0           Argentina\n",
       "1           Argentina\n",
       "2           Argentina\n",
       "3           Argentina\n",
       "4           Argentina\n",
       "            ...      \n",
       "505    United Kingdom\n",
       "506    United Kingdom\n",
       "507    United Kingdom\n",
       "508    United Kingdom\n",
       "509    United Kingdom\n",
       "Name: country, Length: 510, dtype: string"
      ]
     },
     "execution_count": 7,
     "metadata": {},
     "output_type": "execute_result"
    }
   ],
   "source": [
    "dataset_df['country'].astype('string')"
   ]
  },
  {
   "cell_type": "code",
   "execution_count": 8,
   "metadata": {},
   "outputs": [],
   "source": [
    "# Replace Russian Federation with Russia\n",
    "dataset_df.replace(to_replace='Russian Federation', value='Russia', inplace=True)"
   ]
  },
  {
   "cell_type": "code",
   "execution_count": 9,
   "metadata": {},
   "outputs": [
    {
     "data": {
      "text/plain": [
       "array(['Argentina', 'Armenia', 'Australia', 'Austria', 'Belgium',\n",
       "       'Belize', 'Brazil', 'Brunei Darussalam', 'Chile', 'Colombia',\n",
       "       'Croatia', 'Cuba', 'Cyprus', 'Czech Republic', 'Denmark',\n",
       "       'Ecuador', 'Estonia', 'Finland', 'Germany', 'Greece', 'Guatemala',\n",
       "       'Hungary', 'Iceland', 'Israel', 'Italy', 'Japan', 'Kazakhstan',\n",
       "       'Latvia', 'Lithuania', 'Luxembourg', 'Malta', 'Mauritius',\n",
       "       'Mexico', 'Netherlands', 'Norway', 'Panama', 'Poland', 'Qatar',\n",
       "       'Romania', 'Russia', 'Serbia', 'Seychelles', 'Singapore',\n",
       "       'Slovenia', 'South Africa', 'Spain', 'Sweden', 'Switzerland',\n",
       "       'Thailand', 'Turkmenistan', 'United Kingdom'], dtype=object)"
      ]
     },
     "execution_count": 9,
     "metadata": {},
     "output_type": "execute_result"
    }
   ],
   "source": [
    "# Confirm that Russia was replaced correctly\n",
    "dataset_df['country'].unique()"
   ]
  },
  {
   "cell_type": "code",
   "execution_count": 10,
   "metadata": {},
   "outputs": [],
   "source": [
    "# Merge the datasets to make a new dataframe with classifications added to the dataset_df\n",
    "classified_data_df = pd.merge(dataset_df, classification_df, on='country', how='left')"
   ]
  },
  {
   "cell_type": "code",
   "execution_count": 11,
   "metadata": {},
   "outputs": [
    {
     "data": {
      "text/html": [
       "<div>\n",
       "<style scoped>\n",
       "    .dataframe tbody tr th:only-of-type {\n",
       "        vertical-align: middle;\n",
       "    }\n",
       "\n",
       "    .dataframe tbody tr th {\n",
       "        vertical-align: top;\n",
       "    }\n",
       "\n",
       "    .dataframe thead th {\n",
       "        text-align: right;\n",
       "    }\n",
       "</style>\n",
       "<table border=\"1\" class=\"dataframe\">\n",
       "  <thead>\n",
       "    <tr style=\"text-align: right;\">\n",
       "      <th></th>\n",
       "      <th>country</th>\n",
       "      <th>year</th>\n",
       "      <th>number of suicides (per 100,000 people)</th>\n",
       "      <th>health expenditure (per capita)</th>\n",
       "      <th>country classification</th>\n",
       "    </tr>\n",
       "  </thead>\n",
       "  <tbody>\n",
       "    <tr>\n",
       "      <th>0</th>\n",
       "      <td>Argentina</td>\n",
       "      <td>2006</td>\n",
       "      <td>8.652830</td>\n",
       "      <td>447.361176</td>\n",
       "      <td>Developing Countries</td>\n",
       "    </tr>\n",
       "    <tr>\n",
       "      <th>1</th>\n",
       "      <td>Argentina</td>\n",
       "      <td>2007</td>\n",
       "      <td>8.112240</td>\n",
       "      <td>551.750000</td>\n",
       "      <td>Developing Countries</td>\n",
       "    </tr>\n",
       "    <tr>\n",
       "      <th>2</th>\n",
       "      <td>Argentina</td>\n",
       "      <td>2008</td>\n",
       "      <td>8.327544</td>\n",
       "      <td>694.682434</td>\n",
       "      <td>Developing Countries</td>\n",
       "    </tr>\n",
       "    <tr>\n",
       "      <th>3</th>\n",
       "      <td>Argentina</td>\n",
       "      <td>2009</td>\n",
       "      <td>7.761451</td>\n",
       "      <td>742.843018</td>\n",
       "      <td>Developing Countries</td>\n",
       "    </tr>\n",
       "    <tr>\n",
       "      <th>4</th>\n",
       "      <td>Argentina</td>\n",
       "      <td>2010</td>\n",
       "      <td>7.831615</td>\n",
       "      <td>891.137756</td>\n",
       "      <td>Developing Countries</td>\n",
       "    </tr>\n",
       "    <tr>\n",
       "      <th>...</th>\n",
       "      <td>...</td>\n",
       "      <td>...</td>\n",
       "      <td>...</td>\n",
       "      <td>...</td>\n",
       "      <td>...</td>\n",
       "    </tr>\n",
       "    <tr>\n",
       "      <th>505</th>\n",
       "      <td>United Kingdom</td>\n",
       "      <td>2011</td>\n",
       "      <td>7.460703</td>\n",
       "      <td>3501.949707</td>\n",
       "      <td>Developed Countries</td>\n",
       "    </tr>\n",
       "    <tr>\n",
       "      <th>506</th>\n",
       "      <td>United Kingdom</td>\n",
       "      <td>2012</td>\n",
       "      <td>7.442810</td>\n",
       "      <td>3492.889648</td>\n",
       "      <td>Developed Countries</td>\n",
       "    </tr>\n",
       "    <tr>\n",
       "      <th>507</th>\n",
       "      <td>United Kingdom</td>\n",
       "      <td>2013</td>\n",
       "      <td>8.027719</td>\n",
       "      <td>4207.887695</td>\n",
       "      <td>Developed Countries</td>\n",
       "    </tr>\n",
       "    <tr>\n",
       "      <th>508</th>\n",
       "      <td>United Kingdom</td>\n",
       "      <td>2014</td>\n",
       "      <td>7.904841</td>\n",
       "      <td>4601.137207</td>\n",
       "      <td>Developed Countries</td>\n",
       "    </tr>\n",
       "    <tr>\n",
       "      <th>509</th>\n",
       "      <td>United Kingdom</td>\n",
       "      <td>2015</td>\n",
       "      <td>8.038251</td>\n",
       "      <td>4326.250000</td>\n",
       "      <td>Developed Countries</td>\n",
       "    </tr>\n",
       "  </tbody>\n",
       "</table>\n",
       "<p>510 rows × 5 columns</p>\n",
       "</div>"
      ],
      "text/plain": [
       "            country  year  number of suicides (per 100,000 people)  \\\n",
       "0         Argentina  2006                                 8.652830   \n",
       "1         Argentina  2007                                 8.112240   \n",
       "2         Argentina  2008                                 8.327544   \n",
       "3         Argentina  2009                                 7.761451   \n",
       "4         Argentina  2010                                 7.831615   \n",
       "..              ...   ...                                      ...   \n",
       "505  United Kingdom  2011                                 7.460703   \n",
       "506  United Kingdom  2012                                 7.442810   \n",
       "507  United Kingdom  2013                                 8.027719   \n",
       "508  United Kingdom  2014                                 7.904841   \n",
       "509  United Kingdom  2015                                 8.038251   \n",
       "\n",
       "     health expenditure (per capita) country classification  \n",
       "0                         447.361176   Developing Countries  \n",
       "1                         551.750000   Developing Countries  \n",
       "2                         694.682434   Developing Countries  \n",
       "3                         742.843018   Developing Countries  \n",
       "4                         891.137756   Developing Countries  \n",
       "..                               ...                    ...  \n",
       "505                      3501.949707    Developed Countries  \n",
       "506                      3492.889648    Developed Countries  \n",
       "507                      4207.887695    Developed Countries  \n",
       "508                      4601.137207    Developed Countries  \n",
       "509                      4326.250000    Developed Countries  \n",
       "\n",
       "[510 rows x 5 columns]"
      ]
     },
     "execution_count": 11,
     "metadata": {},
     "output_type": "execute_result"
    }
   ],
   "source": [
    "classified_data_df"
   ]
  },
  {
   "cell_type": "code",
   "execution_count": 14,
   "metadata": {},
   "outputs": [],
   "source": [
    "# Drop null values from the dataset\n",
    "classified_data_df = classified_data_df.dropna(how='any')"
   ]
  },
  {
   "cell_type": "code",
   "execution_count": 16,
   "metadata": {},
   "outputs": [
    {
     "data": {
      "text/plain": [
       "array(['Argentina', 'Armenia', 'Australia', 'Austria', 'Belgium',\n",
       "       'Belize', 'Brazil', 'Brunei Darussalam', 'Chile', 'Colombia',\n",
       "       'Croatia', 'Cyprus', 'Czech Republic', 'Denmark', 'Ecuador',\n",
       "       'Estonia', 'Finland', 'Germany', 'Greece', 'Guatemala', 'Hungary',\n",
       "       'Iceland', 'Israel', 'Italy', 'Japan', 'Kazakhstan', 'Latvia',\n",
       "       'Lithuania', 'Luxembourg', 'Malta', 'Mauritius', 'Mexico',\n",
       "       'Netherlands', 'Norway', 'Panama', 'Poland', 'Qatar', 'Romania',\n",
       "       'Russia', 'Serbia', 'Seychelles', 'Singapore', 'Slovenia',\n",
       "       'South Africa', 'Spain', 'Sweden', 'Switzerland', 'Thailand',\n",
       "       'Turkmenistan', 'United Kingdom'], dtype=object)"
      ]
     },
     "execution_count": 16,
     "metadata": {},
     "output_type": "execute_result"
    }
   ],
   "source": [
    "# Note that Cuba is now dropped because it is not an IMF member\n",
    "classified_data_df['country'].unique()"
   ]
  },
  {
   "cell_type": "code",
   "execution_count": 18,
   "metadata": {},
   "outputs": [
    {
     "data": {
      "text/plain": [
       "<pandas.core.groupby.generic.DataFrameGroupBy object at 0x00000272955550B8>"
      ]
     },
     "execution_count": 18,
     "metadata": {},
     "output_type": "execute_result"
    }
   ],
   "source": [
    "grouped_data = classified_data_df.groupby(classified_data_df['country classification'])\n"
   ]
  },
  {
   "cell_type": "code",
   "execution_count": 19,
   "metadata": {},
   "outputs": [
    {
     "data": {
      "text/html": [
       "<div>\n",
       "<style scoped>\n",
       "    .dataframe tbody tr th:only-of-type {\n",
       "        vertical-align: middle;\n",
       "    }\n",
       "\n",
       "    .dataframe tbody tr th {\n",
       "        vertical-align: top;\n",
       "    }\n",
       "\n",
       "    .dataframe thead th {\n",
       "        text-align: right;\n",
       "    }\n",
       "</style>\n",
       "<table border=\"1\" class=\"dataframe\">\n",
       "  <thead>\n",
       "    <tr style=\"text-align: right;\">\n",
       "      <th></th>\n",
       "      <th>country</th>\n",
       "      <th>year</th>\n",
       "      <th>number of suicides (per 100,000 people)</th>\n",
       "      <th>health expenditure (per capita)</th>\n",
       "      <th>country classification</th>\n",
       "    </tr>\n",
       "  </thead>\n",
       "  <tbody>\n",
       "    <tr>\n",
       "      <th>20</th>\n",
       "      <td>Australia</td>\n",
       "      <td>2006</td>\n",
       "      <td>11.078407</td>\n",
       "      <td>3177.460693</td>\n",
       "      <td>Developed Countries</td>\n",
       "    </tr>\n",
       "    <tr>\n",
       "      <th>21</th>\n",
       "      <td>Australia</td>\n",
       "      <td>2007</td>\n",
       "      <td>11.294980</td>\n",
       "      <td>3794.251709</td>\n",
       "      <td>Developed Countries</td>\n",
       "    </tr>\n",
       "    <tr>\n",
       "      <th>22</th>\n",
       "      <td>Australia</td>\n",
       "      <td>2008</td>\n",
       "      <td>11.635008</td>\n",
       "      <td>4088.778076</td>\n",
       "      <td>Developed Countries</td>\n",
       "    </tr>\n",
       "    <tr>\n",
       "      <th>23</th>\n",
       "      <td>Australia</td>\n",
       "      <td>2009</td>\n",
       "      <td>11.383720</td>\n",
       "      <td>3997.537109</td>\n",
       "      <td>Developed Countries</td>\n",
       "    </tr>\n",
       "    <tr>\n",
       "      <th>24</th>\n",
       "      <td>Australia</td>\n",
       "      <td>2010</td>\n",
       "      <td>11.608080</td>\n",
       "      <td>4952.777344</td>\n",
       "      <td>Developed Countries</td>\n",
       "    </tr>\n",
       "    <tr>\n",
       "      <th>...</th>\n",
       "      <td>...</td>\n",
       "      <td>...</td>\n",
       "      <td>...</td>\n",
       "      <td>...</td>\n",
       "      <td>...</td>\n",
       "    </tr>\n",
       "    <tr>\n",
       "      <th>505</th>\n",
       "      <td>United Kingdom</td>\n",
       "      <td>2011</td>\n",
       "      <td>7.460703</td>\n",
       "      <td>3501.949707</td>\n",
       "      <td>Developed Countries</td>\n",
       "    </tr>\n",
       "    <tr>\n",
       "      <th>506</th>\n",
       "      <td>United Kingdom</td>\n",
       "      <td>2012</td>\n",
       "      <td>7.442810</td>\n",
       "      <td>3492.889648</td>\n",
       "      <td>Developed Countries</td>\n",
       "    </tr>\n",
       "    <tr>\n",
       "      <th>507</th>\n",
       "      <td>United Kingdom</td>\n",
       "      <td>2013</td>\n",
       "      <td>8.027719</td>\n",
       "      <td>4207.887695</td>\n",
       "      <td>Developed Countries</td>\n",
       "    </tr>\n",
       "    <tr>\n",
       "      <th>508</th>\n",
       "      <td>United Kingdom</td>\n",
       "      <td>2014</td>\n",
       "      <td>7.904841</td>\n",
       "      <td>4601.137207</td>\n",
       "      <td>Developed Countries</td>\n",
       "    </tr>\n",
       "    <tr>\n",
       "      <th>509</th>\n",
       "      <td>United Kingdom</td>\n",
       "      <td>2015</td>\n",
       "      <td>8.038251</td>\n",
       "      <td>4326.250000</td>\n",
       "      <td>Developed Countries</td>\n",
       "    </tr>\n",
       "  </tbody>\n",
       "</table>\n",
       "<p>260 rows × 5 columns</p>\n",
       "</div>"
      ],
      "text/plain": [
       "            country  year  number of suicides (per 100,000 people)  \\\n",
       "20        Australia  2006                                11.078407   \n",
       "21        Australia  2007                                11.294980   \n",
       "22        Australia  2008                                11.635008   \n",
       "23        Australia  2009                                11.383720   \n",
       "24        Australia  2010                                11.608080   \n",
       "..              ...   ...                                      ...   \n",
       "505  United Kingdom  2011                                 7.460703   \n",
       "506  United Kingdom  2012                                 7.442810   \n",
       "507  United Kingdom  2013                                 8.027719   \n",
       "508  United Kingdom  2014                                 7.904841   \n",
       "509  United Kingdom  2015                                 8.038251   \n",
       "\n",
       "     health expenditure (per capita) country classification  \n",
       "20                       3177.460693    Developed Countries  \n",
       "21                       3794.251709    Developed Countries  \n",
       "22                       4088.778076    Developed Countries  \n",
       "23                       3997.537109    Developed Countries  \n",
       "24                       4952.777344    Developed Countries  \n",
       "..                               ...                    ...  \n",
       "505                      3501.949707    Developed Countries  \n",
       "506                      3492.889648    Developed Countries  \n",
       "507                      4207.887695    Developed Countries  \n",
       "508                      4601.137207    Developed Countries  \n",
       "509                      4326.250000    Developed Countries  \n",
       "\n",
       "[260 rows x 5 columns]"
      ]
     },
     "execution_count": 19,
     "metadata": {},
     "output_type": "execute_result"
    }
   ],
   "source": [
    "# Create a dataframe for developed countries\n",
    "developed_df = grouped_data.get_group(\"Developed Countries\")\n",
    "developed_df"
   ]
  },
  {
   "cell_type": "code",
   "execution_count": 20,
   "metadata": {},
   "outputs": [
    {
     "data": {
      "text/html": [
       "<div>\n",
       "<style scoped>\n",
       "    .dataframe tbody tr th:only-of-type {\n",
       "        vertical-align: middle;\n",
       "    }\n",
       "\n",
       "    .dataframe tbody tr th {\n",
       "        vertical-align: top;\n",
       "    }\n",
       "\n",
       "    .dataframe thead th {\n",
       "        text-align: right;\n",
       "    }\n",
       "</style>\n",
       "<table border=\"1\" class=\"dataframe\">\n",
       "  <thead>\n",
       "    <tr style=\"text-align: right;\">\n",
       "      <th></th>\n",
       "      <th>country</th>\n",
       "      <th>year</th>\n",
       "      <th>number of suicides (per 100,000 people)</th>\n",
       "      <th>health expenditure (per capita)</th>\n",
       "      <th>country classification</th>\n",
       "    </tr>\n",
       "  </thead>\n",
       "  <tbody>\n",
       "    <tr>\n",
       "      <th>0</th>\n",
       "      <td>Argentina</td>\n",
       "      <td>2006</td>\n",
       "      <td>8.652830</td>\n",
       "      <td>447.361176</td>\n",
       "      <td>Developing Countries</td>\n",
       "    </tr>\n",
       "    <tr>\n",
       "      <th>1</th>\n",
       "      <td>Argentina</td>\n",
       "      <td>2007</td>\n",
       "      <td>8.112240</td>\n",
       "      <td>551.750000</td>\n",
       "      <td>Developing Countries</td>\n",
       "    </tr>\n",
       "    <tr>\n",
       "      <th>2</th>\n",
       "      <td>Argentina</td>\n",
       "      <td>2008</td>\n",
       "      <td>8.327544</td>\n",
       "      <td>694.682434</td>\n",
       "      <td>Developing Countries</td>\n",
       "    </tr>\n",
       "    <tr>\n",
       "      <th>3</th>\n",
       "      <td>Argentina</td>\n",
       "      <td>2009</td>\n",
       "      <td>7.761451</td>\n",
       "      <td>742.843018</td>\n",
       "      <td>Developing Countries</td>\n",
       "    </tr>\n",
       "    <tr>\n",
       "      <th>4</th>\n",
       "      <td>Argentina</td>\n",
       "      <td>2010</td>\n",
       "      <td>7.831615</td>\n",
       "      <td>891.137756</td>\n",
       "      <td>Developing Countries</td>\n",
       "    </tr>\n",
       "    <tr>\n",
       "      <th>...</th>\n",
       "      <td>...</td>\n",
       "      <td>...</td>\n",
       "      <td>...</td>\n",
       "      <td>...</td>\n",
       "      <td>...</td>\n",
       "    </tr>\n",
       "    <tr>\n",
       "      <th>495</th>\n",
       "      <td>Turkmenistan</td>\n",
       "      <td>2011</td>\n",
       "      <td>2.810145</td>\n",
       "      <td>276.651703</td>\n",
       "      <td>Developing Countries</td>\n",
       "    </tr>\n",
       "    <tr>\n",
       "      <th>496</th>\n",
       "      <td>Turkmenistan</td>\n",
       "      <td>2012</td>\n",
       "      <td>2.942394</td>\n",
       "      <td>318.807312</td>\n",
       "      <td>Developing Countries</td>\n",
       "    </tr>\n",
       "    <tr>\n",
       "      <th>497</th>\n",
       "      <td>Turkmenistan</td>\n",
       "      <td>2013</td>\n",
       "      <td>2.127187</td>\n",
       "      <td>376.223877</td>\n",
       "      <td>Developing Countries</td>\n",
       "    </tr>\n",
       "    <tr>\n",
       "      <th>498</th>\n",
       "      <td>Turkmenistan</td>\n",
       "      <td>2014</td>\n",
       "      <td>2.826722</td>\n",
       "      <td>437.752808</td>\n",
       "      <td>Developing Countries</td>\n",
       "    </tr>\n",
       "    <tr>\n",
       "      <th>499</th>\n",
       "      <td>Turkmenistan</td>\n",
       "      <td>2015</td>\n",
       "      <td>2.721777</td>\n",
       "      <td>405.126312</td>\n",
       "      <td>Developing Countries</td>\n",
       "    </tr>\n",
       "  </tbody>\n",
       "</table>\n",
       "<p>240 rows × 5 columns</p>\n",
       "</div>"
      ],
      "text/plain": [
       "          country  year  number of suicides (per 100,000 people)  \\\n",
       "0       Argentina  2006                                 8.652830   \n",
       "1       Argentina  2007                                 8.112240   \n",
       "2       Argentina  2008                                 8.327544   \n",
       "3       Argentina  2009                                 7.761451   \n",
       "4       Argentina  2010                                 7.831615   \n",
       "..            ...   ...                                      ...   \n",
       "495  Turkmenistan  2011                                 2.810145   \n",
       "496  Turkmenistan  2012                                 2.942394   \n",
       "497  Turkmenistan  2013                                 2.127187   \n",
       "498  Turkmenistan  2014                                 2.826722   \n",
       "499  Turkmenistan  2015                                 2.721777   \n",
       "\n",
       "     health expenditure (per capita) country classification  \n",
       "0                         447.361176   Developing Countries  \n",
       "1                         551.750000   Developing Countries  \n",
       "2                         694.682434   Developing Countries  \n",
       "3                         742.843018   Developing Countries  \n",
       "4                         891.137756   Developing Countries  \n",
       "..                               ...                    ...  \n",
       "495                       276.651703   Developing Countries  \n",
       "496                       318.807312   Developing Countries  \n",
       "497                       376.223877   Developing Countries  \n",
       "498                       437.752808   Developing Countries  \n",
       "499                       405.126312   Developing Countries  \n",
       "\n",
       "[240 rows x 5 columns]"
      ]
     },
     "execution_count": 20,
     "metadata": {},
     "output_type": "execute_result"
    }
   ],
   "source": [
    "# Create a dataframe for developing countries\n",
    "developing_df = grouped_data.get_group(\"Developing Countries\")\n",
    "developing_df"
   ]
  },
  {
   "cell_type": "code",
   "execution_count": 21,
   "metadata": {},
   "outputs": [],
   "source": [
    "# Export the DataFrame's into CSV's\n",
    "\n",
    "# Export the data with classified countries into a CSV\n",
    "classified_data_df.to_csv(\"output_data/complete_dataset_classified.csv\", index=False)\n",
    "\n",
    "# Export the developed countries into a CSV\n",
    "developed_df.to_csv(\"output_data/developed_countries.csv\", index=False)\n",
    "\n",
    "# Export the developing countries into a CSV\n",
    "developing_df.to_csv(\"output_data/developing_countries.csv\", index=False)"
   ]
  }
 ],
 "metadata": {
  "kernelspec": {
   "display_name": "Python [conda env:PythonData]",
   "language": "python",
   "name": "conda-env-PythonData-py"
  },
  "language_info": {
   "codemirror_mode": {
    "name": "ipython",
    "version": 3
   },
   "file_extension": ".py",
   "mimetype": "text/x-python",
   "name": "python",
   "nbconvert_exporter": "python",
   "pygments_lexer": "ipython3",
   "version": "3.6.10"
  }
 },
 "nbformat": 4,
 "nbformat_minor": 4
}
