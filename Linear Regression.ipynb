{
 "cells": [
  {
   "cell_type": "code",
   "execution_count": 36,
   "metadata": {},
   "outputs": [],
   "source": [
    "# Import dependencies\n",
    "import pandas as pd\n",
    "import matplotlib.pyplot as plt\n",
    "import scipy.stats as st\n",
    "import numpy as np\n"
   ]
  },
  {
   "cell_type": "code",
   "execution_count": 37,
   "metadata": {},
   "outputs": [],
   "source": [
    "# Import the csv files needed to conduct the analysis\n",
    "total_dataset_df = pd.read_csv(\"output_data/data_06_to_2015.csv\")\n",
    "\n",
    "developed_df = pd.read_csv(\"output_data/developed_countries.csv\")\n",
    "\n",
    "developing_df = pd.read_csv(\"output_data/developing_countries.csv\")"
   ]
  },
  {
   "cell_type": "code",
   "execution_count": 38,
   "metadata": {},
   "outputs": [
    {
     "data": {
      "text/html": [
       "<div>\n",
       "<style scoped>\n",
       "    .dataframe tbody tr th:only-of-type {\n",
       "        vertical-align: middle;\n",
       "    }\n",
       "\n",
       "    .dataframe tbody tr th {\n",
       "        vertical-align: top;\n",
       "    }\n",
       "\n",
       "    .dataframe thead th {\n",
       "        text-align: right;\n",
       "    }\n",
       "</style>\n",
       "<table border=\"1\" class=\"dataframe\">\n",
       "  <thead>\n",
       "    <tr style=\"text-align: right;\">\n",
       "      <th></th>\n",
       "      <th>country</th>\n",
       "      <th>year</th>\n",
       "      <th>number of suicides (per 100,000 people)</th>\n",
       "      <th>health expenditure (per capita)</th>\n",
       "    </tr>\n",
       "  </thead>\n",
       "  <tbody>\n",
       "    <tr>\n",
       "      <th>0</th>\n",
       "      <td>Argentina</td>\n",
       "      <td>2006</td>\n",
       "      <td>8.652830</td>\n",
       "      <td>447.361176</td>\n",
       "    </tr>\n",
       "    <tr>\n",
       "      <th>1</th>\n",
       "      <td>Argentina</td>\n",
       "      <td>2007</td>\n",
       "      <td>8.112240</td>\n",
       "      <td>551.750000</td>\n",
       "    </tr>\n",
       "    <tr>\n",
       "      <th>2</th>\n",
       "      <td>Argentina</td>\n",
       "      <td>2008</td>\n",
       "      <td>8.327544</td>\n",
       "      <td>694.682434</td>\n",
       "    </tr>\n",
       "    <tr>\n",
       "      <th>3</th>\n",
       "      <td>Argentina</td>\n",
       "      <td>2009</td>\n",
       "      <td>7.761451</td>\n",
       "      <td>742.843018</td>\n",
       "    </tr>\n",
       "    <tr>\n",
       "      <th>4</th>\n",
       "      <td>Argentina</td>\n",
       "      <td>2010</td>\n",
       "      <td>7.831615</td>\n",
       "      <td>891.137756</td>\n",
       "    </tr>\n",
       "    <tr>\n",
       "      <th>...</th>\n",
       "      <td>...</td>\n",
       "      <td>...</td>\n",
       "      <td>...</td>\n",
       "      <td>...</td>\n",
       "    </tr>\n",
       "    <tr>\n",
       "      <th>505</th>\n",
       "      <td>United Kingdom</td>\n",
       "      <td>2011</td>\n",
       "      <td>7.460703</td>\n",
       "      <td>3501.949707</td>\n",
       "    </tr>\n",
       "    <tr>\n",
       "      <th>506</th>\n",
       "      <td>United Kingdom</td>\n",
       "      <td>2012</td>\n",
       "      <td>7.442810</td>\n",
       "      <td>3492.889648</td>\n",
       "    </tr>\n",
       "    <tr>\n",
       "      <th>507</th>\n",
       "      <td>United Kingdom</td>\n",
       "      <td>2013</td>\n",
       "      <td>8.027719</td>\n",
       "      <td>4207.887695</td>\n",
       "    </tr>\n",
       "    <tr>\n",
       "      <th>508</th>\n",
       "      <td>United Kingdom</td>\n",
       "      <td>2014</td>\n",
       "      <td>7.904841</td>\n",
       "      <td>4601.137207</td>\n",
       "    </tr>\n",
       "    <tr>\n",
       "      <th>509</th>\n",
       "      <td>United Kingdom</td>\n",
       "      <td>2015</td>\n",
       "      <td>8.038251</td>\n",
       "      <td>4326.250000</td>\n",
       "    </tr>\n",
       "  </tbody>\n",
       "</table>\n",
       "<p>510 rows × 4 columns</p>\n",
       "</div>"
      ],
      "text/plain": [
       "            country  year  number of suicides (per 100,000 people)  \\\n",
       "0         Argentina  2006                                 8.652830   \n",
       "1         Argentina  2007                                 8.112240   \n",
       "2         Argentina  2008                                 8.327544   \n",
       "3         Argentina  2009                                 7.761451   \n",
       "4         Argentina  2010                                 7.831615   \n",
       "..              ...   ...                                      ...   \n",
       "505  United Kingdom  2011                                 7.460703   \n",
       "506  United Kingdom  2012                                 7.442810   \n",
       "507  United Kingdom  2013                                 8.027719   \n",
       "508  United Kingdom  2014                                 7.904841   \n",
       "509  United Kingdom  2015                                 8.038251   \n",
       "\n",
       "     health expenditure (per capita)  \n",
       "0                         447.361176  \n",
       "1                         551.750000  \n",
       "2                         694.682434  \n",
       "3                         742.843018  \n",
       "4                         891.137756  \n",
       "..                               ...  \n",
       "505                      3501.949707  \n",
       "506                      3492.889648  \n",
       "507                      4207.887695  \n",
       "508                      4601.137207  \n",
       "509                      4326.250000  \n",
       "\n",
       "[510 rows x 4 columns]"
      ]
     },
     "execution_count": 38,
     "metadata": {},
     "output_type": "execute_result"
    }
   ],
   "source": [
    "# View total dataset\n",
    "total_dataset_df"
   ]
  },
  {
   "cell_type": "code",
   "execution_count": 39,
   "metadata": {},
   "outputs": [
    {
     "data": {
      "text/html": [
       "<div>\n",
       "<style scoped>\n",
       "    .dataframe tbody tr th:only-of-type {\n",
       "        vertical-align: middle;\n",
       "    }\n",
       "\n",
       "    .dataframe tbody tr th {\n",
       "        vertical-align: top;\n",
       "    }\n",
       "\n",
       "    .dataframe thead th {\n",
       "        text-align: right;\n",
       "    }\n",
       "</style>\n",
       "<table border=\"1\" class=\"dataframe\">\n",
       "  <thead>\n",
       "    <tr style=\"text-align: right;\">\n",
       "      <th></th>\n",
       "      <th>country</th>\n",
       "      <th>year</th>\n",
       "      <th>number of suicides (per 100,000 people)</th>\n",
       "      <th>health expenditure (per capita)</th>\n",
       "      <th>country classification</th>\n",
       "    </tr>\n",
       "  </thead>\n",
       "  <tbody>\n",
       "    <tr>\n",
       "      <th>0</th>\n",
       "      <td>Australia</td>\n",
       "      <td>2006</td>\n",
       "      <td>11.078407</td>\n",
       "      <td>3177.460693</td>\n",
       "      <td>Developed Countries</td>\n",
       "    </tr>\n",
       "    <tr>\n",
       "      <th>1</th>\n",
       "      <td>Australia</td>\n",
       "      <td>2007</td>\n",
       "      <td>11.294980</td>\n",
       "      <td>3794.251709</td>\n",
       "      <td>Developed Countries</td>\n",
       "    </tr>\n",
       "    <tr>\n",
       "      <th>2</th>\n",
       "      <td>Australia</td>\n",
       "      <td>2008</td>\n",
       "      <td>11.635008</td>\n",
       "      <td>4088.778076</td>\n",
       "      <td>Developed Countries</td>\n",
       "    </tr>\n",
       "    <tr>\n",
       "      <th>3</th>\n",
       "      <td>Australia</td>\n",
       "      <td>2009</td>\n",
       "      <td>11.383720</td>\n",
       "      <td>3997.537109</td>\n",
       "      <td>Developed Countries</td>\n",
       "    </tr>\n",
       "    <tr>\n",
       "      <th>4</th>\n",
       "      <td>Australia</td>\n",
       "      <td>2010</td>\n",
       "      <td>11.608080</td>\n",
       "      <td>4952.777344</td>\n",
       "      <td>Developed Countries</td>\n",
       "    </tr>\n",
       "    <tr>\n",
       "      <th>...</th>\n",
       "      <td>...</td>\n",
       "      <td>...</td>\n",
       "      <td>...</td>\n",
       "      <td>...</td>\n",
       "      <td>...</td>\n",
       "    </tr>\n",
       "    <tr>\n",
       "      <th>255</th>\n",
       "      <td>United Kingdom</td>\n",
       "      <td>2011</td>\n",
       "      <td>7.460703</td>\n",
       "      <td>3501.949707</td>\n",
       "      <td>Developed Countries</td>\n",
       "    </tr>\n",
       "    <tr>\n",
       "      <th>256</th>\n",
       "      <td>United Kingdom</td>\n",
       "      <td>2012</td>\n",
       "      <td>7.442810</td>\n",
       "      <td>3492.889648</td>\n",
       "      <td>Developed Countries</td>\n",
       "    </tr>\n",
       "    <tr>\n",
       "      <th>257</th>\n",
       "      <td>United Kingdom</td>\n",
       "      <td>2013</td>\n",
       "      <td>8.027719</td>\n",
       "      <td>4207.887695</td>\n",
       "      <td>Developed Countries</td>\n",
       "    </tr>\n",
       "    <tr>\n",
       "      <th>258</th>\n",
       "      <td>United Kingdom</td>\n",
       "      <td>2014</td>\n",
       "      <td>7.904841</td>\n",
       "      <td>4601.137207</td>\n",
       "      <td>Developed Countries</td>\n",
       "    </tr>\n",
       "    <tr>\n",
       "      <th>259</th>\n",
       "      <td>United Kingdom</td>\n",
       "      <td>2015</td>\n",
       "      <td>8.038251</td>\n",
       "      <td>4326.250000</td>\n",
       "      <td>Developed Countries</td>\n",
       "    </tr>\n",
       "  </tbody>\n",
       "</table>\n",
       "<p>260 rows × 5 columns</p>\n",
       "</div>"
      ],
      "text/plain": [
       "            country  year  number of suicides (per 100,000 people)  \\\n",
       "0         Australia  2006                                11.078407   \n",
       "1         Australia  2007                                11.294980   \n",
       "2         Australia  2008                                11.635008   \n",
       "3         Australia  2009                                11.383720   \n",
       "4         Australia  2010                                11.608080   \n",
       "..              ...   ...                                      ...   \n",
       "255  United Kingdom  2011                                 7.460703   \n",
       "256  United Kingdom  2012                                 7.442810   \n",
       "257  United Kingdom  2013                                 8.027719   \n",
       "258  United Kingdom  2014                                 7.904841   \n",
       "259  United Kingdom  2015                                 8.038251   \n",
       "\n",
       "     health expenditure (per capita) country classification  \n",
       "0                        3177.460693    Developed Countries  \n",
       "1                        3794.251709    Developed Countries  \n",
       "2                        4088.778076    Developed Countries  \n",
       "3                        3997.537109    Developed Countries  \n",
       "4                        4952.777344    Developed Countries  \n",
       "..                               ...                    ...  \n",
       "255                      3501.949707    Developed Countries  \n",
       "256                      3492.889648    Developed Countries  \n",
       "257                      4207.887695    Developed Countries  \n",
       "258                      4601.137207    Developed Countries  \n",
       "259                      4326.250000    Developed Countries  \n",
       "\n",
       "[260 rows x 5 columns]"
      ]
     },
     "execution_count": 39,
     "metadata": {},
     "output_type": "execute_result"
    }
   ],
   "source": [
    "# View developed countries df\n",
    "developed_df"
   ]
  },
  {
   "cell_type": "code",
   "execution_count": 40,
   "metadata": {},
   "outputs": [
    {
     "data": {
      "text/html": [
       "<div>\n",
       "<style scoped>\n",
       "    .dataframe tbody tr th:only-of-type {\n",
       "        vertical-align: middle;\n",
       "    }\n",
       "\n",
       "    .dataframe tbody tr th {\n",
       "        vertical-align: top;\n",
       "    }\n",
       "\n",
       "    .dataframe thead th {\n",
       "        text-align: right;\n",
       "    }\n",
       "</style>\n",
       "<table border=\"1\" class=\"dataframe\">\n",
       "  <thead>\n",
       "    <tr style=\"text-align: right;\">\n",
       "      <th></th>\n",
       "      <th>country</th>\n",
       "      <th>year</th>\n",
       "      <th>number of suicides (per 100,000 people)</th>\n",
       "      <th>health expenditure (per capita)</th>\n",
       "      <th>country classification</th>\n",
       "    </tr>\n",
       "  </thead>\n",
       "  <tbody>\n",
       "    <tr>\n",
       "      <th>0</th>\n",
       "      <td>Argentina</td>\n",
       "      <td>2006</td>\n",
       "      <td>8.652830</td>\n",
       "      <td>447.361176</td>\n",
       "      <td>Developing Countries</td>\n",
       "    </tr>\n",
       "    <tr>\n",
       "      <th>1</th>\n",
       "      <td>Argentina</td>\n",
       "      <td>2007</td>\n",
       "      <td>8.112240</td>\n",
       "      <td>551.750000</td>\n",
       "      <td>Developing Countries</td>\n",
       "    </tr>\n",
       "    <tr>\n",
       "      <th>2</th>\n",
       "      <td>Argentina</td>\n",
       "      <td>2008</td>\n",
       "      <td>8.327544</td>\n",
       "      <td>694.682434</td>\n",
       "      <td>Developing Countries</td>\n",
       "    </tr>\n",
       "    <tr>\n",
       "      <th>3</th>\n",
       "      <td>Argentina</td>\n",
       "      <td>2009</td>\n",
       "      <td>7.761451</td>\n",
       "      <td>742.843018</td>\n",
       "      <td>Developing Countries</td>\n",
       "    </tr>\n",
       "    <tr>\n",
       "      <th>4</th>\n",
       "      <td>Argentina</td>\n",
       "      <td>2010</td>\n",
       "      <td>7.831615</td>\n",
       "      <td>891.137756</td>\n",
       "      <td>Developing Countries</td>\n",
       "    </tr>\n",
       "    <tr>\n",
       "      <th>...</th>\n",
       "      <td>...</td>\n",
       "      <td>...</td>\n",
       "      <td>...</td>\n",
       "      <td>...</td>\n",
       "      <td>...</td>\n",
       "    </tr>\n",
       "    <tr>\n",
       "      <th>235</th>\n",
       "      <td>Turkmenistan</td>\n",
       "      <td>2011</td>\n",
       "      <td>2.810145</td>\n",
       "      <td>276.651703</td>\n",
       "      <td>Developing Countries</td>\n",
       "    </tr>\n",
       "    <tr>\n",
       "      <th>236</th>\n",
       "      <td>Turkmenistan</td>\n",
       "      <td>2012</td>\n",
       "      <td>2.942394</td>\n",
       "      <td>318.807312</td>\n",
       "      <td>Developing Countries</td>\n",
       "    </tr>\n",
       "    <tr>\n",
       "      <th>237</th>\n",
       "      <td>Turkmenistan</td>\n",
       "      <td>2013</td>\n",
       "      <td>2.127187</td>\n",
       "      <td>376.223877</td>\n",
       "      <td>Developing Countries</td>\n",
       "    </tr>\n",
       "    <tr>\n",
       "      <th>238</th>\n",
       "      <td>Turkmenistan</td>\n",
       "      <td>2014</td>\n",
       "      <td>2.826722</td>\n",
       "      <td>437.752808</td>\n",
       "      <td>Developing Countries</td>\n",
       "    </tr>\n",
       "    <tr>\n",
       "      <th>239</th>\n",
       "      <td>Turkmenistan</td>\n",
       "      <td>2015</td>\n",
       "      <td>2.721777</td>\n",
       "      <td>405.126312</td>\n",
       "      <td>Developing Countries</td>\n",
       "    </tr>\n",
       "  </tbody>\n",
       "</table>\n",
       "<p>240 rows × 5 columns</p>\n",
       "</div>"
      ],
      "text/plain": [
       "          country  year  number of suicides (per 100,000 people)  \\\n",
       "0       Argentina  2006                                 8.652830   \n",
       "1       Argentina  2007                                 8.112240   \n",
       "2       Argentina  2008                                 8.327544   \n",
       "3       Argentina  2009                                 7.761451   \n",
       "4       Argentina  2010                                 7.831615   \n",
       "..            ...   ...                                      ...   \n",
       "235  Turkmenistan  2011                                 2.810145   \n",
       "236  Turkmenistan  2012                                 2.942394   \n",
       "237  Turkmenistan  2013                                 2.127187   \n",
       "238  Turkmenistan  2014                                 2.826722   \n",
       "239  Turkmenistan  2015                                 2.721777   \n",
       "\n",
       "     health expenditure (per capita) country classification  \n",
       "0                         447.361176   Developing Countries  \n",
       "1                         551.750000   Developing Countries  \n",
       "2                         694.682434   Developing Countries  \n",
       "3                         742.843018   Developing Countries  \n",
       "4                         891.137756   Developing Countries  \n",
       "..                               ...                    ...  \n",
       "235                       276.651703   Developing Countries  \n",
       "236                       318.807312   Developing Countries  \n",
       "237                       376.223877   Developing Countries  \n",
       "238                       437.752808   Developing Countries  \n",
       "239                       405.126312   Developing Countries  \n",
       "\n",
       "[240 rows x 5 columns]"
      ]
     },
     "execution_count": 40,
     "metadata": {},
     "output_type": "execute_result"
    }
   ],
   "source": [
    "# View developing countries df\n",
    "developing_df"
   ]
  },
  {
   "cell_type": "code",
   "execution_count": 41,
   "metadata": {},
   "outputs": [],
   "source": [
    "# Means of necessary values from total dataset\n",
    "country_suicide_means = total_dataset_df.groupby(\"country\")[\"number of suicides (per 100,000 people)\"].mean()\n",
    "\n",
    "country_health_expenditure_means = total_dataset_df.groupby(\"country\")[\"health expenditure (per capita)\"].mean()"
   ]
  },
  {
   "cell_type": "code",
   "execution_count": 42,
   "metadata": {},
   "outputs": [
    {
     "data": {
      "application/vnd.jupyter.widget-view+json": {
       "model_id": "d09655c807fc4407aa29496cdbd175d8",
       "version_major": 2,
       "version_minor": 0
      },
      "text/plain": [
       "Canvas(toolbar=Toolbar(toolitems=[('Home', 'Reset original view', 'home', 'home'), ('Back', 'Back to previous …"
      ]
     },
     "metadata": {},
     "output_type": "display_data"
    }
   ],
   "source": [
    "# Generate a scatter plot of average health expenditure vs suicides over 2006-2015\n",
    "%matplotlib widget\n",
    "fig1, ax1 = plt.subplots(figsize=(10, 8))\n",
    "plt.title(\"Average Health Expenditure per Capita vs Suicide Rate for each country\",fontsize =14)\n",
    "plt.scatter(country_health_expenditure_means, country_suicide_means, s=50,color=\"blue\")\n",
    "plt.xlabel('Average Health Expenditure per Capita ($USD)',fontsize =12)\n",
    "plt.ylabel('Number of Suicides (per 100,000 people)',fontsize =12)\n",
    "plt.show()"
   ]
  },
  {
   "cell_type": "code",
   "execution_count": 43,
   "metadata": {},
   "outputs": [],
   "source": [
    "# Calculate a linear regression on the above data\n",
    "ove_slope, ove_int, ove_r, ove_p, ove_std_err = st.linregress(country_health_expenditure_means, country_suicide_means)"
   ]
  },
  {
   "cell_type": "code",
   "execution_count": 44,
   "metadata": {},
   "outputs": [],
   "source": [
    "# Create equation of line to calculate predicted average suicide rates\n",
    "ove_fit = ove_slope * country_health_expenditure_means + ove_int"
   ]
  },
  {
   "cell_type": "code",
   "execution_count": 78,
   "metadata": {},
   "outputs": [
    {
     "data": {
      "application/vnd.jupyter.widget-view+json": {
       "model_id": "51b0c48f47ef4f94a9c70a09d1439d34",
       "version_major": 2,
       "version_minor": 0
      },
      "text/plain": [
       "Canvas(toolbar=Toolbar(toolitems=[('Home', 'Reset original view', 'home', 'home'), ('Back', 'Back to previous …"
      ]
     },
     "metadata": {},
     "output_type": "display_data"
    },
    {
     "name": "stdout",
     "output_type": "stream",
     "text": [
      "The r is: 0.1315351863393518\n",
      "The r-squared is: 0.017301505245328\n"
     ]
    }
   ],
   "source": [
    "%matplotlib widget\n",
    "fig1, ax1 = plt.subplots(figsize=(10, 8))\n",
    "plt.title(\"Average Health Expenditure per Capita vs Suicide Rate for each country\",fontsize =14)\n",
    "line_eq = \"y = \" + str(round(ove_slope,2)) + \"x + \" + str(round(ove_int,2))\n",
    "plt.scatter(country_health_expenditure_means, country_suicide_means, s=50,color=\"blue\")\n",
    "plt.plot(country_health_expenditure_means, ove_fit, color=\"red\")\n",
    "plt.annotate(line_eq,(5000,20),fontsize=15,color=\"red\")\n",
    "plt.xlabel('Average Health Expenditure per Capita ($USD)',fontsize =12)\n",
    "plt.ylabel('Number of Suicides (per 100,000 people)',fontsize =12)\n",
    "print(f\"The r is: {ove_r}\")\n",
    "print(f\"The r-squared is: {ove_r**2}\")\n",
    "plt.show()\n",
    "plt.savefig(\"images/aveexpvsavesr_overall.png\")"
   ]
  },
  {
   "cell_type": "markdown",
   "metadata": {},
   "source": [
    "The above scatterplot and regression analysis shows that based on the mean values of health expenditure per capita and number of suicides,there is almost no correlation. The r-squared value of ~0.0173 suggests that ~98.27% of the variation in number of suicides is explained by variables other than health expenditure."
   ]
  },
  {
   "cell_type": "code",
   "execution_count": 58,
   "metadata": {},
   "outputs": [
    {
     "data": {
      "text/html": [
       "<div>\n",
       "<style scoped>\n",
       "    .dataframe tbody tr th:only-of-type {\n",
       "        vertical-align: middle;\n",
       "    }\n",
       "\n",
       "    .dataframe tbody tr th {\n",
       "        vertical-align: top;\n",
       "    }\n",
       "\n",
       "    .dataframe thead th {\n",
       "        text-align: right;\n",
       "    }\n",
       "</style>\n",
       "<table border=\"1\" class=\"dataframe\">\n",
       "  <thead>\n",
       "    <tr style=\"text-align: right;\">\n",
       "      <th></th>\n",
       "      <th>country</th>\n",
       "      <th>year</th>\n",
       "      <th>number of suicides (per 100,000 people)</th>\n",
       "      <th>health expenditure (per capita)</th>\n",
       "    </tr>\n",
       "  </thead>\n",
       "  <tbody>\n",
       "    <tr>\n",
       "      <th>0</th>\n",
       "      <td>Argentina</td>\n",
       "      <td>2006</td>\n",
       "      <td>8.652830</td>\n",
       "      <td>447.361176</td>\n",
       "    </tr>\n",
       "    <tr>\n",
       "      <th>10</th>\n",
       "      <td>Armenia</td>\n",
       "      <td>2006</td>\n",
       "      <td>2.821593</td>\n",
       "      <td>126.244705</td>\n",
       "    </tr>\n",
       "    <tr>\n",
       "      <th>20</th>\n",
       "      <td>Australia</td>\n",
       "      <td>2006</td>\n",
       "      <td>11.078407</td>\n",
       "      <td>3177.460693</td>\n",
       "    </tr>\n",
       "    <tr>\n",
       "      <th>30</th>\n",
       "      <td>Austria</td>\n",
       "      <td>2006</td>\n",
       "      <td>16.481836</td>\n",
       "      <td>3879.533203</td>\n",
       "    </tr>\n",
       "    <tr>\n",
       "      <th>40</th>\n",
       "      <td>Belgium</td>\n",
       "      <td>2006</td>\n",
       "      <td>19.422442</td>\n",
       "      <td>3474.425781</td>\n",
       "    </tr>\n",
       "  </tbody>\n",
       "</table>\n",
       "</div>"
      ],
      "text/plain": [
       "      country  year  number of suicides (per 100,000 people)  \\\n",
       "0   Argentina  2006                                 8.652830   \n",
       "10    Armenia  2006                                 2.821593   \n",
       "20  Australia  2006                                11.078407   \n",
       "30    Austria  2006                                16.481836   \n",
       "40    Belgium  2006                                19.422442   \n",
       "\n",
       "    health expenditure (per capita)  \n",
       "0                        447.361176  \n",
       "10                       126.244705  \n",
       "20                      3177.460693  \n",
       "30                      3879.533203  \n",
       "40                      3474.425781  "
      ]
     },
     "execution_count": 58,
     "metadata": {},
     "output_type": "execute_result"
    }
   ],
   "source": [
    "# Regression analysis on the first year of our dataset - first need to isolate 2006 data\n",
    "# Create a dataframe for 2006 data\n",
    "data06_df = total_dataset_df[total_dataset_df.year == 2006]\n",
    "data06_df.head()"
   ]
  },
  {
   "cell_type": "code",
   "execution_count": 59,
   "metadata": {},
   "outputs": [],
   "source": [
    "# Means of necessary values from 2006 dataset\n",
    "country_suicide_means_06 = data06_df.groupby(\"country\")[\"number of suicides (per 100,000 people)\"].mean()\n",
    "\n",
    "country_health_expenditure_means_06 = data06_df.groupby(\"country\")[\"health expenditure (per capita)\"].mean()"
   ]
  },
  {
   "cell_type": "code",
   "execution_count": 60,
   "metadata": {},
   "outputs": [],
   "source": [
    "# Calculate a linear regression on these datasets\n",
    "slope_06, int_06, r_06, p_06, std_err_06 = st.linregress(country_health_expenditure_means_06, country_suicide_means_06)"
   ]
  },
  {
   "cell_type": "code",
   "execution_count": 61,
   "metadata": {},
   "outputs": [],
   "source": [
    "# Create equation of line to calculate predicted average suicide rates\n",
    "fit_06 = slope_06 * country_health_expenditure_means_06 + int_06"
   ]
  },
  {
   "cell_type": "code",
   "execution_count": 77,
   "metadata": {},
   "outputs": [
    {
     "data": {
      "application/vnd.jupyter.widget-view+json": {
       "model_id": "b50f515630ee4bc98907a11f80903976",
       "version_major": 2,
       "version_minor": 0
      },
      "text/plain": [
       "Canvas(toolbar=Toolbar(toolitems=[('Home', 'Reset original view', 'home', 'home'), ('Back', 'Back to previous …"
      ]
     },
     "metadata": {},
     "output_type": "display_data"
    },
    {
     "name": "stdout",
     "output_type": "stream",
     "text": [
      "The r is: 0.09232090019637891\n",
      "The r-squared is: 0.008523148613069756\n"
     ]
    }
   ],
   "source": [
    "# Scatterplot for 2006 and the line of best fit\n",
    "%matplotlib widget\n",
    "fig1, ax1 = plt.subplots(figsize=(10, 8))\n",
    "plt.title(\"Average Health Expenditure per Capita vs Suicide Rate for each country (2006)\",fontsize=14)\n",
    "line_eq = \"y = \" + str(round(slope_06,2)) + \"x + \" + str(round(int_06,2))\n",
    "plt.scatter(country_health_expenditure_means_06, country_suicide_means_06, s=50,color=\"blue\")\n",
    "plt.plot(country_health_expenditure_means_06, fit_06, color=\"red\")\n",
    "plt.annotate(line_eq,(1500, 15),fontsize=15, color=\"red\")\n",
    "plt.xlabel('Average Health Expenditure per Capita ($USD)',fontsize =12)\n",
    "plt.ylabel('Number of Suicides (per 100,000 people)',fontsize =12)\n",
    "print(f\"The r is: {r_06}\")\n",
    "print(f\"The r-squared is: {r_06**2}\")\n",
    "plt.show()\n",
    "plt.savefig(\"images/aveexpvavesr_06.png\")"
   ]
  },
  {
   "cell_type": "markdown",
   "metadata": {},
   "source": [
    "The above scatterplot and regression analysis shows that based on the mean values of health expenditure per capita and number of suicides,there is almost no correlation. The r-squared value of ~0.008 suggests that ~99.2% of the variation in number of suicides is explained by variables other than health expenditure."
   ]
  },
  {
   "cell_type": "code",
   "execution_count": 63,
   "metadata": {},
   "outputs": [
    {
     "data": {
      "text/html": [
       "<div>\n",
       "<style scoped>\n",
       "    .dataframe tbody tr th:only-of-type {\n",
       "        vertical-align: middle;\n",
       "    }\n",
       "\n",
       "    .dataframe tbody tr th {\n",
       "        vertical-align: top;\n",
       "    }\n",
       "\n",
       "    .dataframe thead th {\n",
       "        text-align: right;\n",
       "    }\n",
       "</style>\n",
       "<table border=\"1\" class=\"dataframe\">\n",
       "  <thead>\n",
       "    <tr style=\"text-align: right;\">\n",
       "      <th></th>\n",
       "      <th>country</th>\n",
       "      <th>year</th>\n",
       "      <th>number of suicides (per 100,000 people)</th>\n",
       "      <th>health expenditure (per capita)</th>\n",
       "    </tr>\n",
       "  </thead>\n",
       "  <tbody>\n",
       "    <tr>\n",
       "      <th>9</th>\n",
       "      <td>Argentina</td>\n",
       "      <td>2015</td>\n",
       "      <td>7.740627</td>\n",
       "      <td>1305.395020</td>\n",
       "    </tr>\n",
       "    <tr>\n",
       "      <th>19</th>\n",
       "      <td>Armenia</td>\n",
       "      <td>2015</td>\n",
       "      <td>2.647268</td>\n",
       "      <td>366.049225</td>\n",
       "    </tr>\n",
       "    <tr>\n",
       "      <th>29</th>\n",
       "      <td>Australia</td>\n",
       "      <td>2015</td>\n",
       "      <td>13.610131</td>\n",
       "      <td>4887.800781</td>\n",
       "    </tr>\n",
       "    <tr>\n",
       "      <th>39</th>\n",
       "      <td>Austria</td>\n",
       "      <td>2015</td>\n",
       "      <td>15.220115</td>\n",
       "      <td>4610.966797</td>\n",
       "    </tr>\n",
       "    <tr>\n",
       "      <th>49</th>\n",
       "      <td>Belgium</td>\n",
       "      <td>2015</td>\n",
       "      <td>17.572830</td>\n",
       "      <td>4171.053223</td>\n",
       "    </tr>\n",
       "  </tbody>\n",
       "</table>\n",
       "</div>"
      ],
      "text/plain": [
       "      country  year  number of suicides (per 100,000 people)  \\\n",
       "9   Argentina  2015                                 7.740627   \n",
       "19    Armenia  2015                                 2.647268   \n",
       "29  Australia  2015                                13.610131   \n",
       "39    Austria  2015                                15.220115   \n",
       "49    Belgium  2015                                17.572830   \n",
       "\n",
       "    health expenditure (per capita)  \n",
       "9                       1305.395020  \n",
       "19                       366.049225  \n",
       "29                      4887.800781  \n",
       "39                      4610.966797  \n",
       "49                      4171.053223  "
      ]
     },
     "execution_count": 63,
     "metadata": {},
     "output_type": "execute_result"
    }
   ],
   "source": [
    "# Regression analysis on the last year of our dataset - first need to isolate 2015 data\n",
    "# Create a dataframe for 2015 data\n",
    "data15_df = total_dataset_df[total_dataset_df.year == 2015]\n",
    "data15_df.head()"
   ]
  },
  {
   "cell_type": "code",
   "execution_count": 64,
   "metadata": {},
   "outputs": [],
   "source": [
    "# Means of necessary values from 2015 dataset\n",
    "country_suicide_means_15 = data15_df.groupby(\"country\")[\"number of suicides (per 100,000 people)\"].mean()\n",
    "\n",
    "country_health_expenditure_means_15 = data15_df.groupby(\"country\")[\"health expenditure (per capita)\"].mean()"
   ]
  },
  {
   "cell_type": "code",
   "execution_count": 65,
   "metadata": {},
   "outputs": [],
   "source": [
    "# Calculate a linear regression on these datasets\n",
    "slope_15, int_15, r_15, p_15, std_err_15 = st.linregress(country_health_expenditure_means_15, country_suicide_means_15)"
   ]
  },
  {
   "cell_type": "code",
   "execution_count": 66,
   "metadata": {},
   "outputs": [],
   "source": [
    "# Create equation of line to calculate predicted average suicide rates\n",
    "fit_15 = slope_15 * country_health_expenditure_means_15 + int_15"
   ]
  },
  {
   "cell_type": "code",
   "execution_count": 72,
   "metadata": {},
   "outputs": [
    {
     "data": {
      "application/vnd.jupyter.widget-view+json": {
       "model_id": "3b9e9ed1faa147d5b4b5014a074f5442",
       "version_major": 2,
       "version_minor": 0
      },
      "text/plain": [
       "Canvas(toolbar=Toolbar(toolitems=[('Home', 'Reset original view', 'home', 'home'), ('Back', 'Back to previous …"
      ]
     },
     "metadata": {},
     "output_type": "display_data"
    },
    {
     "name": "stdout",
     "output_type": "stream",
     "text": [
      "The r is: 0.1640556760558859\n",
      "The r-squared is: 0.026914264846153772\n"
     ]
    }
   ],
   "source": [
    "# Scatterplot for 2015 and the line of best fit\n",
    "%matplotlib widget\n",
    "fig1, ax1 = plt.subplots(figsize=(10, 8))\n",
    "plt.title(\"Average Health Expenditure per Capita vs Suicide Rate for each country (2015)\",fontsize=14)\n",
    "line_eq = \"y = \" + str(round(slope_15,2)) + \"x + \" + str(round(int_15,2))\n",
    "plt.scatter(country_health_expenditure_means_15, country_suicide_means_15, s=50,color=\"blue\")\n",
    "plt.plot(country_health_expenditure_means_15, fit_15, color='red')\n",
    "plt.annotate(line_eq,(1500, 15),fontsize=15,color=\"red\")\n",
    "plt.xlabel('Average Health Expenditure per Capita ($USD)',fontsize =12)\n",
    "plt.ylabel('Number of Suicides (per 100,000 people)',fontsize =12)\n",
    "print(f\"The r is: {r_15}\")\n",
    "print(f\"The r-squared is: {r_15**2}\")\n",
    "plt.show()\n",
    "plt.savefig(\"images/aveexpvavesr_15.png\")"
   ]
  },
  {
   "cell_type": "markdown",
   "metadata": {},
   "source": [
    "The above scatterplot and regression analysis shows that based on the mean values of health expenditure per capita and number of suicides,there is almost no correlation. The r-squared value of ~0.027 suggests that ~97.3% of the variation in number of suicides is explained by variables other than health expenditure."
   ]
  },
  {
   "cell_type": "code",
   "execution_count": 79,
   "metadata": {},
   "outputs": [],
   "source": [
    "# Linear regression analysis for developed countries data\n",
    "# Means of necessary values from developed dataset\n",
    "country_suicide_means_rich = developed_df.groupby(\"country\")[\"number of suicides (per 100,000 people)\"].mean()\n",
    "\n",
    "country_health_expenditure_means_rich = developed_df.groupby(\"country\")[\"health expenditure (per capita)\"].mean()"
   ]
  },
  {
   "cell_type": "code",
   "execution_count": 80,
   "metadata": {},
   "outputs": [],
   "source": [
    "# Calculate a linear regression for developed countries\n",
    "rich_slope, rich_int, rich_r, rich_p, rich_std_err = st.linregress(country_health_expenditure_means_rich, country_suicide_means_rich)"
   ]
  },
  {
   "cell_type": "code",
   "execution_count": 81,
   "metadata": {},
   "outputs": [],
   "source": [
    "# Create equation of line to calculate predicted average suicide rates\n",
    "rich_fit = rich_slope * country_health_expenditure_means_rich + rich_int"
   ]
  },
  {
   "cell_type": "code",
   "execution_count": 82,
   "metadata": {},
   "outputs": [
    {
     "data": {
      "application/vnd.jupyter.widget-view+json": {
       "model_id": "8e614717ce4848d9962a6e793c29de72",
       "version_major": 2,
       "version_minor": 0
      },
      "text/plain": [
       "Canvas(toolbar=Toolbar(toolitems=[('Home', 'Reset original view', 'home', 'home'), ('Back', 'Back to previous …"
      ]
     },
     "metadata": {},
     "output_type": "display_data"
    },
    {
     "name": "stdout",
     "output_type": "stream",
     "text": [
      "The r is: -0.1455950738602167\n",
      "The r-squared is: 0.021197925532361956\n"
     ]
    }
   ],
   "source": [
    "# Scatterplot with line of best fit for developed countries data\n",
    "%matplotlib widget\n",
    "fig1, ax1 = plt.subplots(figsize=(10, 8))\n",
    "plt.title(\"Average Health Expenditure per Capita vs Suicide Rate for Developed Countries\",fontsize =14)\n",
    "line_eq = \"y = \" + str(round(rich_slope,2)) + \"x + \" + str(round(rich_int,2))\n",
    "plt.scatter(country_health_expenditure_means_rich, country_suicide_means_rich, s=50,color=\"blue\")\n",
    "plt.plot(country_health_expenditure_means_rich, rich_fit, color=\"red\")\n",
    "plt.annotate(line_eq,(5000,20),fontsize=15,color=\"red\")\n",
    "plt.xlabel('Average Health Expenditure per Capita ($USD)',fontsize =12)\n",
    "plt.ylabel('Number of Suicides (per 100,000 people)',fontsize =12)\n",
    "print(f\"The r is: {rich_r}\")\n",
    "print(f\"The r-squared is: {rich_r**2}\")\n",
    "plt.show()\n",
    "plt.savefig(\"images/aveexpvavesr_developed.png\")"
   ]
  },
  {
   "cell_type": "markdown",
   "metadata": {},
   "source": [
    "The above scatterplot and regression analysis shows that based on the mean values of health expenditure per capita and number of suicides,there is almost no correlation. The r-squared value of ~0.021 suggests that ~97.9% of the variation in number of suicides is explained by variables other than health expenditure. It is interesting to note that the r-value is very slightly negative, but still would be considered to have no correlation."
   ]
  },
  {
   "cell_type": "code",
   "execution_count": 83,
   "metadata": {},
   "outputs": [],
   "source": [
    "# Linear regression analysis for developing countries data\n",
    "# Means of necessary values from developing dataset\n",
    "country_suicide_means_poor = developing_df.groupby(\"country\")[\"number of suicides (per 100,000 people)\"].mean()\n",
    "\n",
    "country_health_expenditure_means_poor = developing_df.groupby(\"country\")[\"health expenditure (per capita)\"].mean()"
   ]
  },
  {
   "cell_type": "code",
   "execution_count": 84,
   "metadata": {},
   "outputs": [],
   "source": [
    "# Calculate a linear regression for developing countries\n",
    "poor_slope, poor_int, poor_r, poor_p, poor_std_err = st.linregress(country_health_expenditure_means_poor, country_suicide_means_poor)"
   ]
  },
  {
   "cell_type": "code",
   "execution_count": 85,
   "metadata": {},
   "outputs": [],
   "source": [
    "# Create equation of line to calculate predicted average suicide rates\n",
    "poor_fit = poor_slope * country_health_expenditure_means_poor + poor_int"
   ]
  },
  {
   "cell_type": "code",
   "execution_count": 87,
   "metadata": {},
   "outputs": [
    {
     "data": {
      "application/vnd.jupyter.widget-view+json": {
       "model_id": "2ebe130d30e0462fb7aab2739e37bef5",
       "version_major": 2,
       "version_minor": 0
      },
      "text/plain": [
       "Canvas(toolbar=Toolbar(toolitems=[('Home', 'Reset original view', 'home', 'home'), ('Back', 'Back to previous …"
      ]
     },
     "metadata": {},
     "output_type": "display_data"
    },
    {
     "name": "stdout",
     "output_type": "stream",
     "text": [
      "The r is: 0.13945183524516883\n",
      "The r-squared is: 0.01944681435324571\n"
     ]
    }
   ],
   "source": [
    "# Scatterplot with line of best fit for developing countries data\n",
    "%matplotlib widget\n",
    "fig1, ax1 = plt.subplots(figsize=(10, 8))\n",
    "plt.title(\"Average Health Expenditure per Capita vs Suicide Rate for Developing Countries\",fontsize =14)\n",
    "line_eq = \"y = \" + str(round(poor_slope,2)) + \"x + \" + str(round(poor_int,2))\n",
    "plt.scatter(country_health_expenditure_means_poor, country_suicide_means_poor, s=50,color=\"blue\")\n",
    "plt.plot(country_health_expenditure_means_poor, poor_fit, color=\"red\")\n",
    "plt.annotate(line_eq,(1000,15),fontsize=15,color=\"red\")\n",
    "plt.xlabel('Average Health Expenditure per Capita ($USD)',fontsize =12)\n",
    "plt.ylabel('Number of Suicides (per 100,000 people)',fontsize =12)\n",
    "print(f\"The r is: {poor_r}\")\n",
    "print(f\"The r-squared is: {poor_r**2}\")\n",
    "plt.show()\n",
    "plt.savefig(\"images/aveexpvavesr_developing.png\")"
   ]
  },
  {
   "cell_type": "markdown",
   "metadata": {},
   "source": [
    "The above scatterplot and regression analysis shows that based on the mean values of health expenditure per capita and number of suicides,there is almost no correlation. The r-squared value of ~0.019 suggests that ~98.1% of the variation in number of suicides is explained by variables other than health expenditure."
   ]
  },
  {
   "cell_type": "code",
   "execution_count": null,
   "metadata": {},
   "outputs": [],
   "source": []
  }
 ],
 "metadata": {
  "kernelspec": {
   "display_name": "Python [conda env:PythonData]",
   "language": "python",
   "name": "conda-env-PythonData-py"
  },
  "language_info": {
   "codemirror_mode": {
    "name": "ipython",
    "version": 3
   },
   "file_extension": ".py",
   "mimetype": "text/x-python",
   "name": "python",
   "nbconvert_exporter": "python",
   "pygments_lexer": "ipython3",
   "version": "3.6.10"
  }
 },
 "nbformat": 4,
 "nbformat_minor": 4
}
